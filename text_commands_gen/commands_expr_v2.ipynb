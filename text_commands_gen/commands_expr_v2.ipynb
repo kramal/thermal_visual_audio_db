{
 "cells": [
  {
   "cell_type": "code",
   "execution_count": 9,
   "metadata": {},
   "outputs": [],
   "source": [
    "import pandas as pd\n",
    "import numpy as np\n",
    "import random\n",
    "import os\n",
    "from num2words import num2words"
   ]
  },
  {
   "cell_type": "code",
   "execution_count": 56,
   "metadata": {},
   "outputs": [
    {
     "data": {
      "image/png": "[encoded data removed]",
      "text/plain": [
       "<Figure size 432x288 with 1 Axes>"
      ]
     },
     "metadata": {
      "needs_background": "light"
     },
     "output_type": "display_data"
    }
   ],
   "source": [
    "data = pd.read_csv(\"csvs/commands_v4_manually_updated_shuffled_1300.csv\") \n",
    "ax = data[\"num_chars\"].hist(bins = 30)"
   ]
  },
  {
   "cell_type": "code",
   "execution_count": 57,
   "metadata": {},
   "outputs": [
    {
     "data": {
      "text/plain": [
       "'play the playlist Favourite songs'"
      ]
     },
     "execution_count": 57,
     "metadata": {},
     "output_type": "execute_result"
    }
   ],
   "source": [
    "#data =  data.set_index('command_id')\n",
    "data.loc[1].command_name # the explicit index is command_id that starts with 1!"
   ]
  },
  {
   "cell_type": "code",
   "execution_count": 58,
   "metadata": {},
   "outputs": [
    {
     "data": {
      "text/plain": [
       "RangeIndex(start=0, stop=1299, step=1)"
      ]
     },
     "execution_count": 58,
     "metadata": {},
     "output_type": "execute_result"
    }
   ],
   "source": [
    "data.index"
   ]
  },
  {
   "cell_type": "code",
   "execution_count": 59,
   "metadata": {},
   "outputs": [],
   "source": [
    "num_copies = 2\n",
    "ids = []\n",
    "for i in range(num_copies):\n",
    "    ids_curr =  list(data.index) # based on command_id\n",
    "    random.shuffle(ids_curr)\n",
    "    ids = ids + ids_curr\n",
    "ids = np.array(ids)"
   ]
  },
  {
   "cell_type": "code",
   "execution_count": 101,
   "metadata": {},
   "outputs": [
    {
     "name": "stdout",
     "output_type": "stream",
     "text": [
      "Successfully created the directory C:\\Users\\user\\Downloads\\csvs\\v1\\fpc5 \n"
     ]
    }
   ],
   "source": [
    "frames_per_char = 5\n",
    "max_num_frames = 900\n",
    "num_pos = 9\n",
    "num_trials = 2\n",
    "path = os.getcwd()+\"\\\\csvs\\\\v1\\\\fpc{}\".format(frames_per_char)\n",
    "if (not os.path.isdir(path)):\n",
    "    try:\n",
    "        os.makedirs(path)\n",
    "    except OSError:\n",
    "        print (\"Creation of the directory %s failed\" % path)\n",
    "    else:\n",
    "        print (\"Successfully created the directory %s \" % path)"
   ]
  },
  {
   "cell_type": "code",
   "execution_count": 102,
   "metadata": {},
   "outputs": [
    {
     "data": {
      "text/plain": [
       "340"
      ]
     },
     "execution_count": 102,
     "metadata": {},
     "output_type": "execute_result"
    }
   ],
   "source": [
    "data.loc[ids[0]].num_chars*frames_per_char"
   ]
  },
  {
   "cell_type": "code",
   "execution_count": 113,
   "metadata": {},
   "outputs": [],
   "source": [
    "df = pd.DataFrame(columns = [\"command_name\",\"command_id\",\"set_id\",\"pos_id\",\"expr_id\",'subject_id','trial_id',\"start_fr_id\", \"end_fr_id\",\"num_chars\"])\n",
    "df['command_id'] = ids\n",
    "\n",
    "i = 0\n",
    "set_id = 1\n",
    "while i<len(ids):\n",
    "    t = i\n",
    "    cum_command_num_fr = 1\n",
    "    for j in range(i, len(ids)):\n",
    "        curr_command_num_fr = data.loc[ids[j]].num_chars*frames_per_char\n",
    "        if(cum_command_num_fr + curr_command_num_fr > max_num_frames):\n",
    "            #print('max_num_frames - cum_command_num_fr: ', max_num_frames - cum_command_num_fr)\n",
    "            #print('j-t: ',j-t)\n",
    "            diff = np.ceil((max_num_frames - cum_command_num_fr)/(j-t))\n",
    "            #print('diff: ',diff)\n",
    "            \n",
    "            temp_end = df[df.set_id==set_id].loc[:,'end_fr_id']\n",
    "            temp_start = df[df.set_id==set_id].loc[:,'start_fr_id']\n",
    "            #print('temp_start:\\n',temp_start)\n",
    "            #print('temp_end:\\n',temp_end)\n",
    "            \n",
    "            diff_end = np.arange(1,len(temp_end)+1)*diff\n",
    "            diff_start = np.arange(0,len(temp_end))*diff\n",
    "            #print('diff_end:\\n', diff_end)\n",
    "            #print('diff_start:\\n', diff_start)\n",
    "            \n",
    "            #print('temp_end+diff_end:\\n', temp_end+diff_end)\n",
    "            #print('temp_start+diff_start:\\n', temp_start+diff_start)\n",
    "            \n",
    "            df.update(temp_end+diff_end)\n",
    "            df.update(temp_start+diff_start)\n",
    "\n",
    "            set_id += 1\n",
    "            break\n",
    "        else:\n",
    "            df.loc[i, 'start_fr_id'] = cum_command_num_fr  \n",
    "            cum_command_num_fr += curr_command_num_fr\n",
    "            #print(curr_command_num_fr)\n",
    "            df.loc[i, 'end_fr_id'] = cum_command_num_fr - 1 \n",
    "            df.loc[i, 'set_id']= set_id\n",
    "            df.loc[i, 'pos_id'] = (set_id-1)%num_pos+1\n",
    "            df.loc[i, 'expr_id'] = int((set_id-1)/num_pos)+1\n",
    "            df.loc[i, 'command_name'] = data.loc[ids[j]].command_name\n",
    "            df.loc[i, 'subject_id'] = int((set_id-1)/num_pos/num_trials) + 1\n",
    "            df.loc[i, 'trial_id'] = int((set_id-1)/num_pos)%num_trials + 1\n",
    "            df.loc[i,'num_chars'] = data.loc[ids[j]].num_chars\n",
    "            i+=1"
   ]
  },
  {
   "cell_type": "code",
   "execution_count": 104,
   "metadata": {},
   "outputs": [],
   "source": [
    "df.to_csv(path+'commands_sub_all_v1_fpc{}.csv'.format(frames_per_char))"
   ]
  },
  {
   "cell_type": "code",
   "execution_count": 114,
   "metadata": {},
   "outputs": [
    {
     "name": "stderr",
     "output_type": "stream",
     "text": [
      "C:\\Users\\user\\Anaconda3\\lib\\site-packages\\ipykernel_launcher.py:4: UserWarning: Boolean Series key will be reindexed to match DataFrame index.\n",
      "  after removing the cwd from sys.path.\n",
      "C:\\Users\\user\\Anaconda3\\lib\\site-packages\\ipykernel_launcher.py:6: UserWarning: Boolean Series key will be reindexed to match DataFrame index.\n",
      "  \n"
     ]
    }
   ],
   "source": [
    "for s_id in df.subject_id.unique():\n",
    "    df_sub = df[df.subject_id==s_id]\n",
    "    df_sub = df_sub.drop(columns=['set_id', 'expr_id'])\n",
    "    df_sub_1 = df_sub[df.trial_id==1].copy()\n",
    "    df_sub_1 = df_sub_1.drop(columns=['subject_id', 'trial_id'])\n",
    "    df_sub_2 = df_sub[df.trial_id==2].copy()\n",
    "    df_sub_2 = df_sub_2.drop(columns=['subject_id', 'trial_id'])\n",
    "    df_sub_1.to_csv(path+'commands_sub{}_trial{}.csv'.format(s_id,1,frames_per_char))\n",
    "    df_sub_2.to_csv(path+'commands_sub{}_trial{}.csv'.format(s_id,2,frames_per_char))"
   ]
  },
  {
   "cell_type": "code",
   "execution_count": 116,
   "metadata": {},
   "outputs": [
    {
     "name": "stdout",
     "output_type": "stream",
     "text": [
      "fpc5commands_sub55_trial1.csv\n",
      "fpc5commands_sub55_trial2.csv\n",
      "fpc5commands_sub56_trial1.csv\n",
      "fpc5commands_sub56_trial2.csv\n",
      "fpc5commands_sub57_trial1.csv\n",
      "fpc5commands_sub57_trial2.csv\n",
      "fpc5commands_sub58_trial1.csv\n",
      "fpc5commands_sub58_trial2.csv\n",
      "fpc5commands_sub59_trial1.csv\n",
      "fpc5commands_sub59_trial2.csv\n",
      "fpc5commands_sub60_trial1.csv\n",
      "fpc5commands_sub60_trial2.csv\n",
      "fpc5commands_sub61_trial1.csv\n",
      "fpc5commands_sub61_trial2.csv\n",
      "fpc5commands_sub62_trial1.csv\n",
      "fpc5commands_sub62_trial2.csv\n",
      "fpc5commands_sub63_trial1.csv\n",
      "fpc5commands_sub63_trial2.csv\n",
      "fpc5commands_sub64_trial1.csv\n",
      "fpc5commands_sub64_trial2.csv\n",
      "fpc5commands_sub65_trial1.csv\n",
      "fpc5commands_sub65_trial2.csv\n",
      "fpc5commands_sub66_trial1.csv\n",
      "fpc5commands_sub66_trial2.csv\n",
      "fpc5commands_sub67_trial1.csv\n",
      "fpc5commands_sub67_trial2.csv\n",
      "fpc5commands_sub68_trial1.csv\n",
      "fpc5commands_sub68_trial2.csv\n",
      "fpc5commands_sub69_trial1.csv\n",
      "fpc5commands_sub69_trial2.csv\n",
      "fpc5commands_sub70_trial1.csv\n",
      "fpc5commands_sub70_trial2.csv\n",
      "fpc5commands_sub71_trial1.csv\n",
      "fpc5commands_sub71_trial2.csv\n",
      "fpc5commands_sub72_trial1.csv\n",
      "fpc5commands_sub72_trial2.csv\n",
      "fpc5commands_sub73_trial1.csv\n",
      "fpc5commands_sub73_trial2.csv\n",
      "fpc5commands_sub74_trial1.csv\n",
      "fpc5commands_sub74_trial2.csv\n",
      "fpc5commands_sub75_trial1.csv\n",
      "fpc5commands_sub75_trial2.csv\n",
      "fpc5commands_sub76_trial1.csv\n",
      "fpc5commands_sub76_trial2.csv\n",
      "fpc5commands_sub77_trial1.csv\n",
      "fpc5commands_sub77_trial2.csv\n",
      "fpc5commands_sub78_trial1.csv\n",
      "fpc5commands_sub78_trial2.csv\n",
      "fpc5commands_sub79_trial1.csv\n",
      "fpc5commands_sub79_trial2.csv\n",
      "fpc5commands_sub80_trial1.csv\n",
      "fpc5commands_sub80_trial2.csv\n",
      "fpc5commands_sub81_trial1.csv\n",
      "fpc5commands_sub81_trial2.csv\n",
      "fpc5commands_sub82_trial2.csv\n"
     ]
    },
    {
     "ename": "FileNotFoundError",
     "evalue": "[WinError 2] The system cannot find the file specified: 'C:\\\\Users\\\\user\\\\Downloads\\\\csvs\\\\v1\\\\fpc5fpc5commands_sub100_trial2.csv' -> 'C:\\\\Users\\\\user\\\\Downloads\\\\csvs\\\\v1\\\\fpc5fpc5commands_sub82_trial2.csv'",
     "output_type": "error",
     "traceback": [
      "\u001b[1;31m---------------------------------------------------------------------------\u001b[0m",
      "\u001b[1;31mFileNotFoundError\u001b[0m                         Traceback (most recent call last)",
      "\u001b[1;32m<ipython-input-116-c3acc01b5fe4>\u001b[0m in \u001b[0;36m<module>\u001b[1;34m()\u001b[0m\n\u001b[0;32m     18\u001b[0m             \u001b[0mdst\u001b[0m \u001b[1;33m=\u001b[0m \u001b[0msdirs\u001b[0m \u001b[1;33m+\u001b[0m \u001b[0mname\u001b[0m\u001b[1;33m\u001b[0m\u001b[0m\n\u001b[0;32m     19\u001b[0m             \u001b[0mprint\u001b[0m\u001b[1;33m(\u001b[0m\u001b[0mname\u001b[0m\u001b[1;33m)\u001b[0m\u001b[1;33m\u001b[0m\u001b[0m\n\u001b[1;32m---> 20\u001b[1;33m             \u001b[0mos\u001b[0m\u001b[1;33m.\u001b[0m\u001b[0mrename\u001b[0m\u001b[1;33m(\u001b[0m\u001b[0msrc\u001b[0m\u001b[1;33m,\u001b[0m \u001b[0mdst\u001b[0m\u001b[1;33m)\u001b[0m\u001b[1;33m\u001b[0m\u001b[0m\n\u001b[0m",
      "\u001b[1;31mFileNotFoundError\u001b[0m: [WinError 2] The system cannot find the file specified: 'C:\\\\Users\\\\user\\\\Downloads\\\\csvs\\\\v1\\\\fpc5fpc5commands_sub100_trial2.csv' -> 'C:\\\\Users\\\\user\\\\Downloads\\\\csvs\\\\v1\\\\fpc5fpc5commands_sub82_trial2.csv'"
     ]
    }
   ],
   "source": [
    "path1 = os.getcwd()+\"\\\\csvs\\\\v1\\\\\"\n",
    "num = 54\n",
    "for sdirs, dirs, files in os.walk(path1):\n",
    "    for file in files:\n",
    "        if file != \"fpc5commands_sub_all_v1_fpc5.csv\":\n",
    "            p1 = (file.split(\".\")[0]).split(\"_\")[0]\n",
    "            inc = False\n",
    "            if (file.split(\".\")[0]).split(\"_\")[-1] == \"trial2\":\n",
    "                p2 = \"_sub\"+str(num)+\"_\"\n",
    "                inc = True\n",
    "            else:\n",
    "                p2 = \"_sub\"+str(num)+\"_\"\n",
    "            p3 = (file.split(\".\")[0]).split(\"_\")[-1]+\".csv\"\n",
    "            if inc:\n",
    "                num +=1\n",
    "            name = p1 + p2 + p3\n",
    "            src = sdirs + file\n",
    "            dst = sdirs + name\n",
    "            print(name)\n",
    "            os.rename(src, dst)"
   ]
  },
  {
   "cell_type": "code",
   "execution_count": 111,
   "metadata": {},
   "outputs": [
    {
     "data": {
      "text/html": [
       "<div>\n",
       "<style scoped>\n",
       "    .dataframe tbody tr th:only-of-type {\n",
       "        vertical-align: middle;\n",
       "    }\n",
       "\n",
       "    .dataframe tbody tr th {\n",
       "        vertical-align: top;\n",
       "    }\n",
       "\n",
       "    .dataframe thead th {\n",
       "        text-align: right;\n",
       "    }\n",
       "</style>\n",
       "<table border=\"1\" class=\"dataframe\">\n",
       "  <thead>\n",
       "    <tr style=\"text-align: right;\">\n",
       "      <th></th>\n",
       "      <th>command_name</th>\n",
       "      <th>command_id</th>\n",
       "      <th>set_id</th>\n",
       "      <th>pos_id</th>\n",
       "      <th>expr_id</th>\n",
       "      <th>subject_id</th>\n",
       "      <th>trial_id</th>\n",
       "      <th>start_fr_id</th>\n",
       "      <th>end_fr_id</th>\n",
       "      <th>num_chars</th>\n",
       "    </tr>\n",
       "  </thead>\n",
       "  <tbody>\n",
       "    <tr>\n",
       "      <th>0</th>\n",
       "      <td>tasks from Homework list from the last ten day...</td>\n",
       "      <td>258</td>\n",
       "      <td>1</td>\n",
       "      <td>1</td>\n",
       "      <td>1</td>\n",
       "      <td>1</td>\n",
       "      <td>1</td>\n",
       "      <td>1</td>\n",
       "      <td>372</td>\n",
       "      <td>68</td>\n",
       "    </tr>\n",
       "    <tr>\n",
       "      <th>1</th>\n",
       "      <td>describe a picture</td>\n",
       "      <td>370</td>\n",
       "      <td>1</td>\n",
       "      <td>1</td>\n",
       "      <td>1</td>\n",
       "      <td>1</td>\n",
       "      <td>1</td>\n",
       "      <td>373</td>\n",
       "      <td>494</td>\n",
       "      <td>18</td>\n",
       "    </tr>\n",
       "    <tr>\n",
       "      <th>2</th>\n",
       "      <td>put the curtains down</td>\n",
       "      <td>307</td>\n",
       "      <td>1</td>\n",
       "      <td>1</td>\n",
       "      <td>1</td>\n",
       "      <td>1</td>\n",
       "      <td>1</td>\n",
       "      <td>495</td>\n",
       "      <td>631</td>\n",
       "      <td>21</td>\n",
       "    </tr>\n",
       "    <tr>\n",
       "      <th>3</th>\n",
       "      <td>the key of Jingle Bells</td>\n",
       "      <td>564</td>\n",
       "      <td>1</td>\n",
       "      <td>1</td>\n",
       "      <td>1</td>\n",
       "      <td>1</td>\n",
       "      <td>1</td>\n",
       "      <td>632</td>\n",
       "      <td>778</td>\n",
       "      <td>23</td>\n",
       "    </tr>\n",
       "    <tr>\n",
       "      <th>4</th>\n",
       "      <td>update my linkedin</td>\n",
       "      <td>172</td>\n",
       "      <td>1</td>\n",
       "      <td>1</td>\n",
       "      <td>1</td>\n",
       "      <td>1</td>\n",
       "      <td>1</td>\n",
       "      <td>779</td>\n",
       "      <td>900</td>\n",
       "      <td>18</td>\n",
       "    </tr>\n",
       "  </tbody>\n",
       "</table>\n",
       "</div>"
      ],
      "text/plain": [
       "                                        command_name  command_id  set_id  \\\n",
       "0  tasks from Homework list from the last ten day...         258       1   \n",
       "1                                 describe a picture         370       1   \n",
       "2                              put the curtains down         307       1   \n",
       "3                            the key of Jingle Bells         564       1   \n",
       "4                                 update my linkedin         172       1   \n",
       "\n",
       "   pos_id  expr_id  subject_id  trial_id start_fr_id end_fr_id  num_chars  \n",
       "0       1        1           1         1           1       372         68  \n",
       "1       1        1           1         1         373       494         18  \n",
       "2       1        1           1         1         495       631         21  \n",
       "3       1        1           1         1         632       778         23  \n",
       "4       1        1           1         1         779       900         18  "
      ]
     },
     "execution_count": 111,
     "metadata": {},
     "output_type": "execute_result"
    }
   ],
   "source": [
    "df.head()"
   ]
  },
  {
   "cell_type": "code",
   "execution_count": 112,
   "metadata": {},
   "outputs": [
    {
     "data": {
      "text/html": [
       "<div>\n",
       "<style scoped>\n",
       "    .dataframe tbody tr th:only-of-type {\n",
       "        vertical-align: middle;\n",
       "    }\n",
       "\n",
       "    .dataframe tbody tr th {\n",
       "        vertical-align: top;\n",
       "    }\n",
       "\n",
       "    .dataframe thead th {\n",
       "        text-align: right;\n",
       "    }\n",
       "</style>\n",
       "<table border=\"1\" class=\"dataframe\">\n",
       "  <thead>\n",
       "    <tr style=\"text-align: right;\">\n",
       "      <th></th>\n",
       "      <th>command_name</th>\n",
       "      <th>command_id</th>\n",
       "      <th>set_id</th>\n",
       "      <th>pos_id</th>\n",
       "      <th>expr_id</th>\n",
       "      <th>subject_id</th>\n",
       "      <th>trial_id</th>\n",
       "      <th>start_fr_id</th>\n",
       "      <th>end_fr_id</th>\n",
       "      <th>num_chars</th>\n",
       "    </tr>\n",
       "  </thead>\n",
       "  <tbody>\n",
       "    <tr>\n",
       "      <th>2593</th>\n",
       "      <td>turn shuffle off</td>\n",
       "      <td>730</td>\n",
       "      <td>475</td>\n",
       "      <td>7</td>\n",
       "      <td>53</td>\n",
       "      <td>27</td>\n",
       "      <td>1</td>\n",
       "      <td>451</td>\n",
       "      <td>540</td>\n",
       "      <td>16</td>\n",
       "    </tr>\n",
       "    <tr>\n",
       "      <th>2594</th>\n",
       "      <td>tasks from Homework list from the last three d...</td>\n",
       "      <td>1220</td>\n",
       "      <td>475</td>\n",
       "      <td>7</td>\n",
       "      <td>53</td>\n",
       "      <td>27</td>\n",
       "      <td>1</td>\n",
       "      <td>541</td>\n",
       "      <td>900</td>\n",
       "      <td>70</td>\n",
       "    </tr>\n",
       "    <tr>\n",
       "      <th>2595</th>\n",
       "      <td>start disco lights</td>\n",
       "      <td>318</td>\n",
       "      <td>476</td>\n",
       "      <td>8</td>\n",
       "      <td>53</td>\n",
       "      <td>27</td>\n",
       "      <td>1</td>\n",
       "      <td>1</td>\n",
       "      <td>90</td>\n",
       "      <td>18</td>\n",
       "    </tr>\n",
       "    <tr>\n",
       "      <th>2596</th>\n",
       "      <td>set the temperature of my Tesla car to twenty ...</td>\n",
       "      <td>405</td>\n",
       "      <td>476</td>\n",
       "      <td>8</td>\n",
       "      <td>53</td>\n",
       "      <td>27</td>\n",
       "      <td>1</td>\n",
       "      <td>91</td>\n",
       "      <td>385</td>\n",
       "      <td>59</td>\n",
       "    </tr>\n",
       "    <tr>\n",
       "      <th>2597</th>\n",
       "      <td>add song Despacito to Sad songs</td>\n",
       "      <td>859</td>\n",
       "      <td>476</td>\n",
       "      <td>8</td>\n",
       "      <td>53</td>\n",
       "      <td>27</td>\n",
       "      <td>1</td>\n",
       "      <td>386</td>\n",
       "      <td>540</td>\n",
       "      <td>31</td>\n",
       "    </tr>\n",
       "  </tbody>\n",
       "</table>\n",
       "</div>"
      ],
      "text/plain": [
       "                                           command_name  command_id  set_id  \\\n",
       "2593                                   turn shuffle off         730     475   \n",
       "2594  tasks from Homework list from the last three d...        1220     475   \n",
       "2595                                 start disco lights         318     476   \n",
       "2596  set the temperature of my Tesla car to twenty ...         405     476   \n",
       "2597                    add song Despacito to Sad songs         859     476   \n",
       "\n",
       "      pos_id  expr_id  subject_id  trial_id start_fr_id end_fr_id  num_chars  \n",
       "2593       7       53          27         1         451       540         16  \n",
       "2594       7       53          27         1         541       900         70  \n",
       "2595       8       53          27         1           1        90         18  \n",
       "2596       8       53          27         1          91       385         59  \n",
       "2597       8       53          27         1         386       540         31  "
      ]
     },
     "execution_count": 112,
     "metadata": {},
     "output_type": "execute_result"
    }
   ],
   "source": [
    "df.tail()"
   ]
  },
  {
   "cell_type": "code",
   "execution_count": null,
   "metadata": {},
   "outputs": [],
   "source": []
  }
 ],
 "metadata": {
  "kernelspec": {
   "display_name": "Python 3",
   "language": "python",
   "name": "python3"
  },
  "language_info": {
   "codemirror_mode": {
    "name": "ipython",
    "version": 3
   },
   "file_extension": ".py",
   "mimetype": "text/x-python",
   "name": "python",
   "nbconvert_exporter": "python",
   "pygments_lexer": "ipython3",
   "version": "3.7.3"
  }
 },
 "nbformat": 4,
 "nbformat_minor": 2
}
