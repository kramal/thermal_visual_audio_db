{
 "cells": [
  {
   "cell_type": "code",
   "execution_count": 1,
   "metadata": {},
   "outputs": [],
   "source": [
    "import pandas as pd\n",
    "import numpy as np\n",
    "import random\n",
    "import os\n"
   ]
  },
  {
   "cell_type": "code",
   "execution_count": 2,
   "metadata": {},
   "outputs": [],
   "source": [
    "with open('valid_commands.txt') as f:\n",
    "    all_commands = [line.rstrip() for line in f]"
   ]
  },
  {
   "cell_type": "code",
   "execution_count": 3,
   "metadata": {},
   "outputs": [
    {
     "data": {
      "text/html": [
       "<div>\n",
       "<style scoped>\n",
       "    .dataframe tbody tr th:only-of-type {\n",
       "        vertical-align: middle;\n",
       "    }\n",
       "\n",
       "    .dataframe tbody tr th {\n",
       "        vertical-align: top;\n",
       "    }\n",
       "\n",
       "    .dataframe thead th {\n",
       "        text-align: right;\n",
       "    }\n",
       "</style>\n",
       "<table border=\"1\" class=\"dataframe\">\n",
       "  <thead>\n",
       "    <tr style=\"text-align: right;\">\n",
       "      <th></th>\n",
       "      <th>command_name</th>\n",
       "      <th>num_chars</th>\n",
       "    </tr>\n",
       "    <tr>\n",
       "      <th>command_id</th>\n",
       "      <th></th>\n",
       "      <th></th>\n",
       "    </tr>\n",
       "  </thead>\n",
       "  <tbody>\n",
       "    <tr>\n",
       "      <th>1</th>\n",
       "      <td>set the temperature to nineteen degrees on my ...</td>\n",
       "      <td>56</td>\n",
       "    </tr>\n",
       "    <tr>\n",
       "      <th>2</th>\n",
       "      <td>play the song rolling in the deep on spotify</td>\n",
       "      <td>44</td>\n",
       "    </tr>\n",
       "    <tr>\n",
       "      <th>3</th>\n",
       "      <td>how positive is yesterday</td>\n",
       "      <td>25</td>\n",
       "    </tr>\n",
       "    <tr>\n",
       "      <th>4</th>\n",
       "      <td>value in dollars of ethereum</td>\n",
       "      <td>28</td>\n",
       "    </tr>\n",
       "    <tr>\n",
       "      <th>5</th>\n",
       "      <td>information on wikicfp</td>\n",
       "      <td>22</td>\n",
       "    </tr>\n",
       "    <tr>\n",
       "      <th>6</th>\n",
       "      <td>three cat pictures</td>\n",
       "      <td>18</td>\n",
       "    </tr>\n",
       "    <tr>\n",
       "      <th>7</th>\n",
       "      <td>a translation to french</td>\n",
       "      <td>23</td>\n",
       "    </tr>\n",
       "    <tr>\n",
       "      <th>8</th>\n",
       "      <td>how dancey is the song counting stars</td>\n",
       "      <td>37</td>\n",
       "    </tr>\n",
       "    <tr>\n",
       "      <th>9</th>\n",
       "      <td>where is my tesla car</td>\n",
       "      <td>21</td>\n",
       "    </tr>\n",
       "    <tr>\n",
       "      <th>10</th>\n",
       "      <td>share a picture on imgur</td>\n",
       "      <td>24</td>\n",
       "    </tr>\n",
       "  </tbody>\n",
       "</table>\n",
       "</div>"
      ],
      "text/plain": [
       "                                                 command_name  num_chars\n",
       "command_id                                                              \n",
       "1           set the temperature to nineteen degrees on my ...         56\n",
       "2                play the song rolling in the deep on spotify         44\n",
       "3                                   how positive is yesterday         25\n",
       "4                                value in dollars of ethereum         28\n",
       "5                                      information on wikicfp         22\n",
       "6                                          three cat pictures         18\n",
       "7                                     a translation to french         23\n",
       "8                       how dancey is the song counting stars         37\n",
       "9                                       where is my tesla car         21\n",
       "10                                   share a picture on imgur         24"
      ]
     },
     "execution_count": 3,
     "metadata": {},
     "output_type": "execute_result"
    }
   ],
   "source": [
    "data = pd.DataFrame()\n",
    "data[\"command_name\"] = all_commands\n",
    "data[\"command_id\"] = range(1,len(all_commands)+1)\n",
    "data[\"num_chars\"] = [len(command) for command in all_commands]\n",
    "data = data.set_index('command_id')\n",
    "data.head(10)"
   ]
  },
  {
   "cell_type": "code",
   "execution_count": 6,
   "metadata": {},
   "outputs": [
    {
     "ename": "NameError",
     "evalue": "name 'path' is not defined",
     "output_type": "error",
     "traceback": [
      "\u001b[0;31m---------------------------------------------------------------------------\u001b[0m",
      "\u001b[0;31mNameError\u001b[0m                                 Traceback (most recent call last)",
      "\u001b[0;32m<ipython-input-6-012ab3a6b187>\u001b[0m in \u001b[0;36m<module>\u001b[0;34m\u001b[0m\n\u001b[0;32m----> 1\u001b[0;31m \u001b[0mpath\u001b[0m\u001b[0;34m\u001b[0m\u001b[0;34m\u001b[0m\u001b[0m\n\u001b[0m",
      "\u001b[0;31mNameError\u001b[0m: name 'path' is not defined"
     ]
    }
   ],
   "source": []
  },
  {
   "cell_type": "code",
   "execution_count": null,
   "metadata": {},
   "outputs": [],
   "source": [
    "df.to_csv('test_commandscommands_valid_fpc{}.csv'.format(frames_per_char))"
   ]
  },
  {
   "cell_type": "code",
   "execution_count": 4,
   "metadata": {},
   "outputs": [],
   "source": [
    "ax = data[\"num_chars\"].hist(bins = 30)\n"
   ]
  },
  {
   "cell_type": "code",
   "execution_count": 5,
   "metadata": {},
   "outputs": [
    {
     "data": {
      "text/plain": [
       "'set the temperature to nineteen degrees on my thermostat'"
      ]
     },
     "execution_count": 5,
     "metadata": {},
     "output_type": "execute_result"
    }
   ],
   "source": [
    "#data =  data.set_index('command_id')\n",
    "data.loc[1].command_name # the explicit index is command_id that starts with 1!"
   ]
  },
  {
   "cell_type": "code",
   "execution_count": 42,
   "metadata": {},
   "outputs": [
    {
     "data": {
      "text/plain": [
       "Int64Index([  1,   2,   3,   4,   5,   6,   7,   8,   9,  10,\n",
       "            ...\n",
       "            241, 242, 243, 244, 245, 246, 247, 248, 249, 250],\n",
       "           dtype='int64', name='command_id', length=250)"
      ]
     },
     "execution_count": 42,
     "metadata": {},
     "output_type": "execute_result"
    }
   ],
   "source": [
    "data.index"
   ]
  },
  {
   "cell_type": "code",
   "execution_count": 51,
   "metadata": {},
   "outputs": [],
   "source": [
    "num_copies = 8\n",
    "ids = []\n",
    "for i in range(num_copies):\n",
    "    ids_curr =  list(data.index) # based on command_id\n",
    "    random.shuffle(ids_curr)\n",
    "    ids = ids + ids_curr\n",
    "ids = np.array(ids)"
   ]
  },
  {
   "cell_type": "code",
   "execution_count": 56,
   "metadata": {},
   "outputs": [
    {
     "name": "stdout",
     "output_type": "stream",
     "text": [
      "Successfully created the directory /home/test/PycharmProjects/thermal_visual_audio_db/text_commands_gen/csvs/valid_set/fpc5 \n"
     ]
    }
   ],
   "source": [
    "frames_per_char = 5\n",
    "max_num_frames = 900\n",
    "num_pos = 9\n",
    "num_trials = 2\n",
    "path = os.getcwd()+\"/csvs/valid_set/fpc{}\".format(frames_per_char)\n",
    "if (not os.path.isdir(path)):\n",
    "    try:\n",
    "        os.makedirs(path)\n",
    "    except OSError:\n",
    "        print (\"Creation of the directory %s failed\" % path)\n",
    "    else:\n",
    "        print (\"Successfully created the directory %s \" % path)"
   ]
  },
  {
   "cell_type": "code",
   "execution_count": 54,
   "metadata": {},
   "outputs": [
    {
     "data": {
      "text/plain": [
       "140"
      ]
     },
     "execution_count": 54,
     "metadata": {},
     "output_type": "execute_result"
    }
   ],
   "source": [
    "data.loc[ids[0]].num_chars*frames_per_char"
   ]
  },
  {
   "cell_type": "code",
   "execution_count": 55,
   "metadata": {},
   "outputs": [],
   "source": [
    "df = pd.DataFrame(columns = [\"command_name\",\"command_id\",\"set_id\",\"pos_id\",\"expr_id\",'subject_id','trial_id',\"start_fr_id\", \"end_fr_id\",\"num_chars\"])\n",
    "df['command_id'] = ids\n",
    "\n",
    "i = 0\n",
    "set_id = 1\n",
    "while i<len(ids):\n",
    "    t = i\n",
    "    cum_command_num_fr = 1\n",
    "    for j in range(i, len(ids)):\n",
    "        curr_command_num_fr = data.loc[ids[j]].num_chars*frames_per_char\n",
    "        if(cum_command_num_fr + curr_command_num_fr > max_num_frames):\n",
    "            diff = np.ceil((max_num_frames - cum_command_num_fr)/(j-t))\n",
    "            temp_end = df[df.set_id==set_id].loc[:,'end_fr_id']\n",
    "            temp_start = df[df.set_id==set_id].loc[:,'start_fr_id']\n",
    "            diff_end = np.arange(1,len(temp_end)+1)*diff\n",
    "            diff_start = np.arange(0,len(temp_end))*diff\n",
    "            df.update(temp_end+diff_end)\n",
    "            df.update(temp_start+diff_start)\n",
    "\n",
    "            set_id += 1\n",
    "            break\n",
    "        else:\n",
    "            df.loc[i, 'start_fr_id'] = cum_command_num_fr  \n",
    "            cum_command_num_fr += curr_command_num_fr\n",
    "            df.loc[i, 'end_fr_id'] = cum_command_num_fr - 1 \n",
    "            df.loc[i, 'set_id']= set_id\n",
    "            df.loc[i, 'pos_id'] = (set_id-1)%num_pos+1\n",
    "            df.loc[i, 'expr_id'] = int((set_id-1)/num_pos)+1\n",
    "            df.loc[i, 'command_name'] = data.loc[ids[j]].command_name\n",
    "            df.loc[i, 'subject_id'] = int((set_id-1)/num_pos/num_trials) + 1\n",
    "            df.loc[i, 'trial_id'] = int((set_id-1)/num_pos)%num_trials + 1\n",
    "            df.loc[i,'num_chars'] = data.loc[ids[j]].num_chars\n",
    "            i+=1"
   ]
  },
  {
   "cell_type": "code",
   "execution_count": 57,
   "metadata": {},
   "outputs": [],
   "source": [
    "df.to_csv(path+'/commands_valid_fpc{}.csv'.format(frames_per_char))"
   ]
  },
  {
   "cell_type": "code",
   "execution_count": 22,
   "metadata": {},
   "outputs": [],
   "source": [
    " # only if needed\n",
    "new_start_id = 100\n",
    "df.update(df.subject_id+new_start_id)"
   ]
  },
  {
   "cell_type": "code",
   "execution_count": 58,
   "metadata": {},
   "outputs": [
    {
     "name": "stderr",
     "output_type": "stream",
     "text": [
      "/home/test/anaconda3/lib/python3.7/site-packages/ipykernel_launcher.py:4: UserWarning: Boolean Series key will be reindexed to match DataFrame index.\n",
      "  after removing the cwd from sys.path.\n",
      "/home/test/anaconda3/lib/python3.7/site-packages/ipykernel_launcher.py:6: UserWarning: Boolean Series key will be reindexed to match DataFrame index.\n",
      "  \n"
     ]
    }
   ],
   "source": [
    "for s_id in df.subject_id.unique():\n",
    "    df_sub = df[df.subject_id==s_id]\n",
    "    df_sub = df_sub.drop(columns=['set_id', 'expr_id'])\n",
    "    df_sub_1 = df_sub[df.trial_id==1].copy()\n",
    "    df_sub_1 = df_sub_1.drop(columns=['subject_id', 'trial_id'])\n",
    "    df_sub_2 = df_sub[df.trial_id==2].copy()\n",
    "    df_sub_2 = df_sub_2.drop(columns=['subject_id', 'trial_id'])\n",
    "    df_sub_1.to_csv(path+'/commands_sub{}_trial{}.csv'.format(s_id,1,frames_per_char))\n",
    "    df_sub_2.to_csv(path+'/commands_sub{}_trial{}.csv'.format(s_id,2,frames_per_char))"
   ]
  },
  {
   "cell_type": "code",
   "execution_count": null,
   "metadata": {},
   "outputs": [],
   "source": []
  }
 ],
 "metadata": {
  "kernelspec": {
   "display_name": "Python 3",
   "language": "python",
   "name": "python3"
  },
  "language_info": {
   "codemirror_mode": {
    "name": "ipython",
    "version": 3
   },
   "file_extension": ".py",
   "mimetype": "text/x-python",
   "name": "python",
   "nbconvert_exporter": "python",
   "pygments_lexer": "ipython3",
   "version": "3.7.3"
  }
 },
 "nbformat": 4,
 "nbformat_minor": 2
}
