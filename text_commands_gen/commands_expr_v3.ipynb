{
 "cells": [
  {
   "cell_type": "code",
   "execution_count": 3,
   "metadata": {},
   "outputs": [],
   "source": [
    "import pandas as pd\n",
    "import numpy as np\n",
    "import random\n",
    "import os\n"
   ]
  },
  {
   "cell_type": "code",
   "execution_count": 4,
   "metadata": {},
   "outputs": [
    {
     "data": {
      "image/png": "[encoded data removed]",
      "text/plain": [
       "<Figure size 432x288 with 1 Axes>"
      ]
     },
     "metadata": {
      "needs_background": "light"
     },
     "output_type": "display_data"
    }
   ],
   "source": [
    "data = pd.read_csv(\"csvs/commands_v4_manually_updated_shuffled_1300.csv\") \n",
    "ax = data[\"num_chars\"].hist(bins = 30)"
   ]
  },
  {
   "cell_type": "code",
   "execution_count": 5,
   "metadata": {},
   "outputs": [
    {
     "data": {
      "text/plain": [
       "'play the playlist Favourite songs'"
      ]
     },
     "execution_count": 5,
     "metadata": {},
     "output_type": "execute_result"
    }
   ],
   "source": [
    "#data =  data.set_index('command_id')\n",
    "data.loc[1].command_name # the explicit index is command_id that starts with 1!"
   ]
  },
  {
   "cell_type": "code",
   "execution_count": 6,
   "metadata": {},
   "outputs": [
    {
     "data": {
      "text/plain": [
       "RangeIndex(start=0, stop=1299, step=1)"
      ]
     },
     "execution_count": 6,
     "metadata": {},
     "output_type": "execute_result"
    }
   ],
   "source": [
    "data.index"
   ]
  },
  {
   "cell_type": "code",
   "execution_count": 59,
   "metadata": {},
   "outputs": [],
   "source": [
    "num_copies = 2\n",
    "ids = []\n",
    "for i in range(num_copies):\n",
    "    ids_curr =  list(data.index) # based on command_id\n",
    "    random.shuffle(ids_curr)\n",
    "    ids = ids + ids_curr\n",
    "ids = np.array(ids)"
   ]
  },
  {
   "cell_type": "code",
   "execution_count": 60,
   "metadata": {},
   "outputs": [],
   "source": [
    "frames_per_char = 5\n",
    "max_num_frames = 900\n",
    "num_pos = 9\n",
    "num_trials = 2\n",
    "path = os.getcwd()+\"/csvs/v4/fpc{}\".format(frames_per_char)\n",
    "if (not os.path.isdir(path)):\n",
    "    try:\n",
    "        os.makedirs(path)\n",
    "    except OSError:\n",
    "        print (\"Creation of the directory %s failed\" % path)\n",
    "    else:\n",
    "        print (\"Successfully created the directory %s \" % path)"
   ]
  },
  {
   "cell_type": "code",
   "execution_count": 61,
   "metadata": {},
   "outputs": [
    {
     "data": {
      "text/plain": [
       "140"
      ]
     },
     "execution_count": 61,
     "metadata": {},
     "output_type": "execute_result"
    }
   ],
   "source": [
    "data.loc[ids[0]].num_chars*frames_per_char"
   ]
  },
  {
   "cell_type": "code",
   "execution_count": 62,
   "metadata": {},
   "outputs": [],
   "source": [
    "df = pd.DataFrame(columns = [\"command_name\",\"command_id\",\"set_id\",\"pos_id\",\"expr_id\",'subject_id','trial_id',\"start_fr_id\", \"end_fr_id\",\"num_chars\"])\n",
    "df['command_id'] = ids\n",
    "\n",
    "i = 0\n",
    "set_id = 1\n",
    "while i<len(ids):\n",
    "    t = i\n",
    "    cum_command_num_fr = 1\n",
    "    for j in range(i, len(ids)):\n",
    "        curr_command_num_fr = data.loc[ids[j]].num_chars*frames_per_char\n",
    "        if(cum_command_num_fr + curr_command_num_fr > max_num_frames):\n",
    "            diff = np.ceil((max_num_frames - cum_command_num_fr)/(j-t))\n",
    "            temp_end = df[df.set_id==set_id].loc[:,'end_fr_id']\n",
    "            temp_start = df[df.set_id==set_id].loc[:,'start_fr_id']\n",
    "            diff_end = np.arange(1,len(temp_end)+1)*diff\n",
    "            diff_start = np.arange(0,len(temp_end))*diff\n",
    "            df.update(temp_end+diff_end)\n",
    "            df.update(temp_start+diff_start)\n",
    "\n",
    "            set_id += 1\n",
    "            break\n",
    "        else:\n",
    "            df.loc[i, 'start_fr_id'] = cum_command_num_fr  \n",
    "            cum_command_num_fr += curr_command_num_fr\n",
    "            df.loc[i, 'end_fr_id'] = cum_command_num_fr - 1 \n",
    "            df.loc[i, 'set_id']= set_id\n",
    "            df.loc[i, 'pos_id'] = (set_id-1)%num_pos+1\n",
    "            df.loc[i, 'expr_id'] = int((set_id-1)/num_pos)+1\n",
    "            df.loc[i, 'command_name'] = data.loc[ids[j]].command_name\n",
    "            df.loc[i, 'subject_id'] = int((set_id-1)/num_pos/num_trials) + 1\n",
    "            df.loc[i, 'trial_id'] = int((set_id-1)/num_pos)%num_trials + 1\n",
    "            df.loc[i,'num_chars'] = data.loc[ids[j]].num_chars\n",
    "            i+=1"
   ]
  },
  {
   "cell_type": "code",
   "execution_count": 63,
   "metadata": {},
   "outputs": [
    {
     "name": "stdout",
     "output_type": "stream",
     "text": [
      "0     1\n",
      "1     1\n",
      "2     1\n",
      "3     1\n",
      "4     1\n",
      "5     1\n",
      "6     1\n",
      "7     1\n",
      "8     1\n",
      "9     1\n",
      "10    1\n",
      "11    1\n",
      "12    1\n",
      "13    1\n",
      "14    1\n",
      "15    1\n",
      "16    1\n",
      "17    1\n",
      "18    1\n",
      "19    1\n",
      "20    1\n",
      "21    1\n",
      "22    1\n",
      "23    1\n",
      "24    1\n",
      "25    1\n",
      "26    1\n",
      "27    1\n",
      "28    1\n",
      "29    1\n",
      "30    1\n",
      "31    1\n",
      "32    1\n",
      "33    1\n",
      "34    1\n",
      "35    1\n",
      "36    1\n",
      "37    1\n",
      "38    1\n",
      "39    1\n",
      "Name: subject_id, dtype: int64\n"
     ]
    }
   ],
   "source": [
    "print(df.subject_id.head(40))"
   ]
  },
  {
   "cell_type": "code",
   "execution_count": 64,
   "metadata": {},
   "outputs": [],
   "source": [
    " # only if needed\n",
    "new_start_id = 2*27\n",
    "df.update(df.subject_id+new_start_id)"
   ]
  },
  {
   "cell_type": "code",
   "execution_count": 65,
   "metadata": {},
   "outputs": [
    {
     "data": {
      "text/plain": [
       "0     55\n",
       "1     55\n",
       "2     55\n",
       "3     55\n",
       "4     55\n",
       "5     55\n",
       "6     55\n",
       "7     55\n",
       "8     55\n",
       "9     55\n",
       "10    55\n",
       "11    55\n",
       "12    55\n",
       "13    55\n",
       "14    55\n",
       "15    55\n",
       "16    55\n",
       "17    55\n",
       "18    55\n",
       "19    55\n",
       "20    55\n",
       "21    55\n",
       "22    55\n",
       "23    55\n",
       "24    55\n",
       "25    55\n",
       "26    55\n",
       "27    55\n",
       "28    55\n",
       "29    55\n",
       "30    55\n",
       "31    55\n",
       "32    55\n",
       "33    55\n",
       "34    55\n",
       "35    55\n",
       "36    55\n",
       "37    55\n",
       "38    55\n",
       "39    55\n",
       "Name: subject_id, dtype: int64"
      ]
     },
     "execution_count": 65,
     "metadata": {},
     "output_type": "execute_result"
    }
   ],
   "source": [
    "df.subject_id.head(40)"
   ]
  },
  {
   "cell_type": "code",
   "execution_count": 66,
   "metadata": {},
   "outputs": [
    {
     "name": "stderr",
     "output_type": "stream",
     "text": [
      "/home/test/anaconda3/lib/python3.7/site-packages/ipykernel_launcher.py:4: UserWarning: Boolean Series key will be reindexed to match DataFrame index.\n",
      "  after removing the cwd from sys.path.\n",
      "/home/test/anaconda3/lib/python3.7/site-packages/ipykernel_launcher.py:6: UserWarning: Boolean Series key will be reindexed to match DataFrame index.\n",
      "  \n"
     ]
    }
   ],
   "source": [
    "for s_id in df.subject_id.unique():\n",
    "    df_sub = df[df.subject_id==s_id]\n",
    "    df_sub = df_sub.drop(columns=['set_id', 'expr_id'])\n",
    "    df_sub_1 = df_sub[df.trial_id==1].copy()\n",
    "    df_sub_1 = df_sub_1.drop(columns=['subject_id', 'trial_id'])\n",
    "    df_sub_2 = df_sub[df.trial_id==2].copy()\n",
    "    df_sub_2 = df_sub_2.drop(columns=['subject_id', 'trial_id'])\n",
    "    df_sub_1.to_csv(path+'/commands_sub{}_trial{}.csv'.format(s_id,1,frames_per_char))\n",
    "    df_sub_2.to_csv(path+'/commands_sub{}_trial{}.csv'.format(s_id,2,frames_per_char))"
   ]
  },
  {
   "cell_type": "code",
   "execution_count": null,
   "metadata": {},
   "outputs": [],
   "source": []
  }
 ],
 "metadata": {
  "kernelspec": {
   "display_name": "Python 3",
   "language": "python",
   "name": "python3"
  },
  "language_info": {
   "codemirror_mode": {
    "name": "ipython",
    "version": 3
   },
   "file_extension": ".py",
   "mimetype": "text/x-python",
   "name": "python",
   "nbconvert_exporter": "python",
   "pygments_lexer": "ipython3",
   "version": "3.7.3"
  }
 },
 "nbformat": 4,
 "nbformat_minor": 2
}
